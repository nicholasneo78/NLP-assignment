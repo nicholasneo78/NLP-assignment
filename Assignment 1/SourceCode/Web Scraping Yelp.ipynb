{
 "cells": [
  {
   "cell_type": "code",
   "execution_count": 1,
   "metadata": {},
   "outputs": [],
   "source": [
    "import bs4 as bs\n",
    "import re\n",
    "import urllib.request as url"
   ]
  },
  {
   "cell_type": "code",
   "execution_count": 2,
   "metadata": {},
   "outputs": [],
   "source": [
    "reviewDict = []"
   ]
  },
  {
   "cell_type": "code",
   "execution_count": 4,
   "metadata": {},
   "outputs": [],
   "source": [
    "#Save in a file\n",
    "filename = \"yelp_Clinton_Street_Baking Company_&_Restaurant_scrapped.csv\"\n",
    "\n",
    "f = open(filename, \"w\")"
   ]
  },
  {
   "cell_type": "code",
   "execution_count": 20,
   "metadata": {},
   "outputs": [],
   "source": [
    "#reviewNo = [0,20,40,60]\n",
    "reviewNo = str(60)"
   ]
  },
  {
   "cell_type": "code",
   "execution_count": 21,
   "metadata": {},
   "outputs": [],
   "source": [
    "source = url.urlopen('https://www.yelp.com/biz/clinton-street-baking-company-and-restaurant-singapore?osq=Waffles&start='+reviewNo+'&sort_by=rating_desc')"
   ]
  },
  {
   "cell_type": "code",
   "execution_count": 22,
   "metadata": {},
   "outputs": [],
   "source": [
    "page_soup = bs.BeautifulSoup(source, 'html.parser')"
   ]
  },
  {
   "cell_type": "code",
   "execution_count": 23,
   "metadata": {},
   "outputs": [],
   "source": [
    "mains = page_soup.find_all(\"div\", {\"class\": \"lemon--div__373c0__1mboc arrange-unit__373c0__o3tjT arrange-unit-grid-column--8__373c0__2dUx_ border-color--default__373c0__3-ifU\"})"
   ]
  },
  {
   "cell_type": "code",
   "execution_count": 24,
   "metadata": {},
   "outputs": [
    {
     "output_type": "stream",
     "name": "stdout",
     "text": [
      "\n====Review 0 ====\n--Cannot find ratings--\n\n1 star ratingEek! Methinks not.2 star ratingMeh. I've experienced better.3 star rating4 star ratingYay! I'm a fan.5 star ratingWoohoo! As good as it gets!Start your review of Clinton Street Baking Company &amp; Restaurant\n\n====Review 1 ====\nRating: 3 star rating\n\n.css-1qkiuob.css-1qkiuob svg 1 photo.css-z6383k.css-z6383k svg 1 check-inMy first time here. Ever. Didn't know about the New York branch so there is no basis for comparison. I've heard lots of excited rumblings of course, and friends who used to live in New York were thrilled about its opening. Fair enough. From all accounts, I hear that this place largely works. The food is comparable and all. I'll have to take their word for it. I only came here for some cake and I got the upside down pineapple cake. I don't know why but seeing a badly sliced and sloppily presented cake annoyed me. It shows a lack of care in the attentive-level of staff.When I went to pay, I noticed that other cakes (of other flavors) were similarly badly sliced. Woah. I really did think Clinton St Bakery was better than this. Taste-wise, the cake was fine. Not great, not terrible. The staff was sufficiently polite. But I think the devil's in the details and they need to teach their staff how to slice cakes properly, lift the slices and place them on plates..css-1c2abjj.css-1c2abjj svgUseful Funny Cool \n\n====Review 2 ====\nRating: 3 star rating\n\n 2 photosDefinitely order the chicken and waffles. Staff recommended to order onion rings as sides. Do not order onion rings. Completely disappointing. We came on a Monday afternoon, not too busy just some tables of ladies of leisure... but be aware your last order is at 5pm.\n\n====Review 3 ====\nRating: 3 star rating\n\nThe Good, The Bad, and The Bourbon Salted Caramel MilkshakeI preface this by saying I absolutely love Clinton Street Baking Co. in New York. The Singapore shop matches the New York venue in some respects (main courses and drinks) and fails in other areas (pies and service).I'll start with the good. For a shop known for its baked goods and pancakes, the drinks were fantastic.  The bourbon salted caramel milkshake was the best thing we had and the bloody mary, which is so rarely made well, was also delicious. The main courses we tried (pancakes and huevos rancheros) were every bit as good as the NY shop.Unfortunately, there were several areas where Clinton Street really struggled. First, the service was horrible. After we were seated, not one staff member came to our table without being asked. We had to ask for drinks, for menus, to order, to get a dessert menu, to get a check, and to have our check taken and processed. When there were quality issues with food (see below), we did not get an apology and the waiter seemed annoyed to have to deal with the issue.Second, when we arrived for brunch, two of the three pies of the day were unavailable. No explanation was give nor was any apology forthcoming. We tried the only special available (strawberry rhubarb pie) and the lime meringue pie. Both were disappointing. The crumble on the strawberry rhubarb pie was like a group of small, indestructible rocks. We could not break up the 10cm pieces with a fork -- and we tried! We were not provided a knife with dessert.  The lime meringue pie tasted good but there was so little lime custard except at the very edge of the pie that it tasted almost exclusively of meringue.When I pointed these out to our server he simply asked if we would like something different. I pointed out that there was very little else available as two of the pies of the day were not available and he stood in silence. He did not seem to have any idea how the pies should be made or the quality that is normally associated with Clinton Street.Useful \n\n====Review 4 ====\nRating: 2 star rating\n\nI came here because the hotel breakfast at the Intercontinental was $S30 a pop, and I thought I could do better -- or at least the same for less. So I decided to go to Killiney Kopitiam but my Ang Moh instincts took over while passing the lower-rated Clinton Street Baking Co. They had muffins on display and I am partial to Western breakfasts. So I was sucked in. The first thing I saw from the menu was it was not going to be much less expensive. So maybe it'll be great? Same for more?I ordered what I thought was their signature omelette because it had their name on it. But it only comes with two add-in ingredients (besides the eggs, of course). And apparently nothing but those two plus the eggs because when the omelette arrived I was asked if I wanted salt, pepper, or catsup. The first sign of cooking mediocrity is the need to season it with any of those things after cooking, especially a $20 omelette. If I'd known I would have chosen bacon to go in there. Ugh. It was so bland. And dry. I regretted not asking for catsup. I regretted more not having salsa, which is the best cure for bland eggs.The hash browns, though, were remarkable. If it was a two-egg omelette instead of a three-egger I was pushing through I would have savored them more. My cappuccino was also well done. Final tally, $S33!At the hotel I could have bottomless juice, cappuccinos, an array of Japanese, Chinese, Indian, and Western breakfast items. Smoked salmon with capers. Fresh-made waffles. Croissants and danishes. Fresh fruit. I got less for more. I'm kind of amazed they didn't have oatmeal (or porridge) on the menu. My punishment for not going to the kopitiam.\n\n====Review 5 ====\nRating: 2 star rating\n\nThat moment when you're in an entirely different country and you see they have your favorite NYC breakfast spot is in Singapore!!!! BUT  it's no where near as good and your charged double the price. Very disappointing. :(\n\n====Review 6 ====\nRating: 2 star rating\n\nBreakfast was mediocre. Nothing crazy or wow about. Overpriced as well. Would I recommend? Sure, if there's nothing else on the block to eat. Otherwise, it's not worth a visit.\n\n====Review 7 ====\nRating: 1 star rating\n\nEverything should be half the price.  For the same price you can get three times the quality at P.S. Cafe.  Dishes with eggs were underseasoned and in lack of flavor.  The 20 dollar omelet has an egg to stuffing ratio of 5:1.  Not coming back. Coffee was good.\n\n====Review 8 ====\nRating: 1 star rating\n\nWe went here for breakfast and we're not really impressed. They got one of our orders wrong, completely forgot another and had zero apologies for it all. Food is really mediocre for the price. All the egg dishes were well prepared but everything else on the plate was unappetizing. The biscuits were dry, the ham was leathery, the bread was stale. Would not recommend at all.\n\n====Review 9 ====\nRating: 1 star rating\n\n 1 check-inThis was easily the worst experience we had anywhere on our entire trip.Left waiting for 20 minutes to place our order while the table next to us, seated after we arrived, placed and received their order. We were generally ignored by the staff--and at the end we paid 10% extra for their \"service.\"Do yourself a favor and go elsewhere.Useful \n\n====Review 10 ====\nRating: 1 star rating\n\n 1 check-inI had spinach egg for breakfast. It tasted absolutely bland, tasteless. The portion of the orange juice is way too little. Not worth the price .. It's not the breakfast to die as compared in states. Lastly, customer service was bad. Coffee is good tho.Useful \n\n====Review 11 ====\n--Cannot find ratings--\n\nCopyright © 2004–2020 Yelp Inc. Yelp, ,   and related marks are registered trademarks of Yelp.\n"
     ]
    }
   ],
   "source": [
    "#Set loop over 1 attribute\n",
    "count = 0\n",
    "for main in mains:\n",
    "    print()\n",
    "    print(\"====Review\",count,\"====\")\n",
    "    reviews = \"\"\n",
    "    try:\n",
    "        try:\n",
    "            ratings = main.find(\"span\", {\"class\": \"lemon--span__373c0__3997G display--inline__373c0__3JqBP border-color--default__373c0__3-ifU\"}).div.get('aria-label')\n",
    "            print(\"Rating:\",ratings)\n",
    "        except:\n",
    "            print(\"--Cannot find ratings--\")\n",
    "        print()\n",
    "        #Code to clean for angular brackets < >\n",
    "        cleaned_item = re.sub('\\<.*?(\\S*)?\\>','',str(main))\n",
    "        #Code to clean for angular brackets {}\n",
    "        cleaned_item = re.sub('\\{.*?(\\S*)?\\}','',str(cleaned_item))\n",
    "         #Code to replace , with fullstop\n",
    "        cleaned_item = re.sub(',','.',str(cleaned_item))\n",
    "        print(cleaned_item)\n",
    "        reviews = cleaned_item\n",
    "        reviewDict.append([ratings[0],reviews])\n",
    "    except:\n",
    "        print(\"Error\")\n",
    "        \n",
    "    count+=1\n",
    "    \n"
   ]
  },
  {
   "cell_type": "code",
   "execution_count": 25,
   "metadata": {},
   "outputs": [],
   "source": [
    "for review in reviewDict:\n",
    "    f.write(\"\\n\" + review[0] + \",\" + review[1] )\n",
    "f.close()"
   ]
  },
  {
   "cell_type": "code",
   "execution_count": null,
   "metadata": {},
   "outputs": [],
   "source": []
  }
 ],
 "metadata": {
  "kernelspec": {
   "display_name": "Python 3",
   "language": "python",
   "name": "python3"
  },
  "language_info": {
   "codemirror_mode": {
    "name": "ipython",
    "version": 3
   },
   "file_extension": ".py",
   "mimetype": "text/x-python",
   "name": "python",
   "nbconvert_exporter": "python",
   "pygments_lexer": "ipython3",
   "version": "3.8.5-final"
  }
 },
 "nbformat": 4,
 "nbformat_minor": 2
}